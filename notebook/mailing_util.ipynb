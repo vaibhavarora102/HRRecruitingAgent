{
 "cells": [
  {
   "cell_type": "code",
   "execution_count": null,
   "id": "70b89379",
   "metadata": {},
   "outputs": [],
   "source": [
    "gmail_password = \"dsc orm\"\n",
    "gmail_user = \"vaibhavaroradevops@gmail.com\""
   ]
  },
  {
   "cell_type": "code",
   "execution_count": 2,
   "id": "b8ed05dd",
   "metadata": {},
   "outputs": [],
   "source": [
    "import smtplib"
   ]
  },
  {
   "cell_type": "code",
   "execution_count": 3,
   "id": "dfd2e145",
   "metadata": {},
   "outputs": [],
   "source": [
    "reciever_Email = \"aroravaibhav102@gmail.com\""
   ]
  },
  {
   "cell_type": "code",
   "execution_count": 4,
   "id": "f1f40218",
   "metadata": {},
   "outputs": [
    {
     "data": {
      "text/plain": [
       "{}"
      ]
     },
     "execution_count": 4,
     "metadata": {},
     "output_type": "execute_result"
    }
   ],
   "source": [
    "subject = \"Test Mail\"\n",
    "body = \"This is a test mail\"\n",
    "\n",
    "server = smtplib.SMTP('smtp.gmail.com', 587)\n",
    "server.starttls()\n",
    "server.login(gmail_user, gmail_password)\n",
    "message = f'Subject: {subject}\\n\\n{body}'   \n",
    "server.sendmail(gmail_user, reciever_Email, message)"
   ]
  },
  {
   "cell_type": "code",
   "execution_count": 5,
   "id": "1e505457",
   "metadata": {},
   "outputs": [
    {
     "data": {
      "text/plain": [
       "(451,\n",
       " b'4.4.2 Timeout - closing connection.\\n4.4.2  For more information, go to\\n4.4.2  https://support.google.com/a/answer/3221692 d2e1a72fcca58-78b020537ebsm5565855b3a.47 - gsmtp')"
      ]
     },
     "execution_count": 5,
     "metadata": {},
     "output_type": "execute_result"
    }
   ],
   "source": [
    "server.quit()"
   ]
  },
  {
   "cell_type": "code",
   "execution_count": null,
   "id": "0526bc7e",
   "metadata": {},
   "outputs": [],
   "source": []
  }
 ],
 "metadata": {
  "kernelspec": {
   "display_name": "futureStack (3.13.1)",
   "language": "python",
   "name": "python3"
  },
  "language_info": {
   "codemirror_mode": {
    "name": "ipython",
    "version": 3
   },
   "file_extension": ".py",
   "mimetype": "text/x-python",
   "name": "python",
   "nbconvert_exporter": "python",
   "pygments_lexer": "ipython3",
   "version": "3.13.1"
  }
 },
 "nbformat": 4,
 "nbformat_minor": 5
}
