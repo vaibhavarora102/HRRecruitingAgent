{
 "cells": [
  {
   "cell_type": "code",
   "execution_count": 12,
   "id": "d5d19702",
   "metadata": {},
   "outputs": [],
   "source": [
    "Resume = [{'resume_url': 'https://jntavmoxtjnflnrsbulo.supabase.co/storage/v1/object/public/resumes/27/vaibhav.arora.102g@gmail.com-1759580936649-JD%20Software%20Engineer%20(Go)%20(1).pdf'}, {'resume_url': 'https://jntavmoxtjnflnrsbulo.supabase.co/storage/v1/object/public/resumes/27/aroravaibhav661@gmail.com-1759580948813-Vaibhav%20Arora%20Amazon.pdf'}]"
   ]
  },
  {
   "cell_type": "code",
   "execution_count": 13,
   "id": "92d7108b",
   "metadata": {},
   "outputs": [],
   "source": [
    "import os\n",
    "import requests\n",
    "from langchain.text_splitter import RecursiveCharacterTextSplitter\n",
    "from langchain_community.document_loaders import PyPDFLoader\n",
    "from langchain_community.vectorstores import FAISS\n",
    "from langchain.embeddings import OpenAIEmbeddings\n",
    "from langchain.chains import RetrievalQA\n",
    "from langchain.chat_models import ChatOpenAI"
   ]
  },
  {
   "cell_type": "code",
   "execution_count": 16,
   "id": "be9a7a61",
   "metadata": {},
   "outputs": [
    {
     "name": "stdout",
     "output_type": "stream",
     "text": [
      "⬇️ Downloading resumes\\vaibhav.arora.102g@gmail.com-1759580936649-JD%20Software%20Engineer%20(Go)%20(1).pdf ...\n",
      "⬇️ Downloading resumes\\aroravaibhav661@gmail.com-1759580948813-Vaibhav%20Arora%20Amazon.pdf ...\n",
      "✅ Loaded 2 full documents\n"
     ]
    }
   ],
   "source": [
    "download_dir = \"resumes\"\n",
    "os.makedirs(download_dir, exist_ok=True)\n",
    "\n",
    "# ====================================\n",
    "# 📥 STEP 2: Download & Combine PDFs\n",
    "# ====================================\n",
    "from langchain.docstore.document import Document\n",
    "\n",
    "all_docs = []\n",
    "\n",
    "for item in Resume:\n",
    "    pdf_url = item['resume_url']\n",
    "    file_name = os.path.join(download_dir, pdf_url.split(\"/\")[-1])\n",
    "\n",
    "    print(f\"⬇️ Downloading {file_name} ...\")\n",
    "    response = requests.get(pdf_url)\n",
    "    with open(file_name, \"wb\") as f:\n",
    "        f.write(response.content)\n",
    "\n",
    "    # Load PDF and combine all pages into one text\n",
    "    loader = PyPDFLoader(file_name)\n",
    "    pages = loader.load()\n",
    "    full_text = \"\\n\".join([p.page_content for p in pages])\n",
    "\n",
    "    # Create one Document object per PDF\n",
    "    doc = Document(\n",
    "        page_content=full_text,\n",
    "        metadata={\"source\": pdf_url, \"filename\": os.path.basename(file_name)}\n",
    "    )\n",
    "    all_docs.append(doc)\n",
    "\n",
    "print(f\"✅ Loaded {len(all_docs)} full documents\")\n"
   ]
  },
  {
   "cell_type": "code",
   "execution_count": 21,
   "id": "deea9155",
   "metadata": {},
   "outputs": [
    {
     "ename": "ValidationError",
     "evalue": "1 validation error for OpenAIEmbeddings\n  Value error, Did not find openai_api_key, please add an environment variable `OPENAI_API_KEY` which contains it, or pass `openai_api_key` as a named parameter. [type=value_error, input_value={'model_kwargs': {}, 'cli...20, 'http_client': None}, input_type=dict]\n    For further information visit https://errors.pydantic.dev/2.11/v/value_error",
     "output_type": "error",
     "traceback": [
      "\u001b[31m---------------------------------------------------------------------------\u001b[39m",
      "\u001b[31mValidationError\u001b[39m                           Traceback (most recent call last)",
      "\u001b[36mCell\u001b[39m\u001b[36m \u001b[39m\u001b[32mIn[21]\u001b[39m\u001b[32m, line 4\u001b[39m\n\u001b[32m      1\u001b[39m \u001b[38;5;66;03m# ====================================\u001b[39;00m\n\u001b[32m      2\u001b[39m \u001b[38;5;66;03m# 🧬 STEP 3: Embed Full Docs & Store in FAISS\u001b[39;00m\n\u001b[32m      3\u001b[39m \u001b[38;5;66;03m# ====================================\u001b[39;00m\n\u001b[32m----> \u001b[39m\u001b[32m4\u001b[39m embeddings = \u001b[43mOpenAIEmbeddings\u001b[49m\u001b[43m(\u001b[49m\u001b[43m)\u001b[49m\n\u001b[32m      5\u001b[39m vectorstore = FAISS.from_documents(all_docs, embeddings)\n\u001b[32m      6\u001b[39m vectorstore.save_local(\u001b[33m\"\u001b[39m\u001b[33mfaiss_resume_full_db\u001b[39m\u001b[33m\"\u001b[39m)\n",
      "\u001b[36mFile \u001b[39m\u001b[32md:\\Hackathon\\futureStack\\futureStack\\Lib\\site-packages\\langchain_core\\_api\\deprecation.py:226\u001b[39m, in \u001b[36mdeprecated.<locals>.deprecate.<locals>.finalize.<locals>.warn_if_direct_instance\u001b[39m\u001b[34m(self, *args, **kwargs)\u001b[39m\n\u001b[32m    224\u001b[39m     warned = \u001b[38;5;28;01mTrue\u001b[39;00m\n\u001b[32m    225\u001b[39m     emit_warning()\n\u001b[32m--> \u001b[39m\u001b[32m226\u001b[39m \u001b[38;5;28;01mreturn\u001b[39;00m \u001b[43mwrapped\u001b[49m\u001b[43m(\u001b[49m\u001b[38;5;28;43mself\u001b[39;49m\u001b[43m,\u001b[49m\u001b[43m \u001b[49m\u001b[43m*\u001b[49m\u001b[43margs\u001b[49m\u001b[43m,\u001b[49m\u001b[43m \u001b[49m\u001b[43m*\u001b[49m\u001b[43m*\u001b[49m\u001b[43mkwargs\u001b[49m\u001b[43m)\u001b[49m\n",
      "\u001b[36mFile \u001b[39m\u001b[32md:\\Hackathon\\futureStack\\futureStack\\Lib\\site-packages\\pydantic\\main.py:253\u001b[39m, in \u001b[36mBaseModel.__init__\u001b[39m\u001b[34m(self, **data)\u001b[39m\n\u001b[32m    251\u001b[39m \u001b[38;5;66;03m# `__tracebackhide__` tells pytest and some other tools to omit this function from tracebacks\u001b[39;00m\n\u001b[32m    252\u001b[39m __tracebackhide__ = \u001b[38;5;28;01mTrue\u001b[39;00m\n\u001b[32m--> \u001b[39m\u001b[32m253\u001b[39m validated_self = \u001b[38;5;28;43mself\u001b[39;49m\u001b[43m.\u001b[49m\u001b[43m__pydantic_validator__\u001b[49m\u001b[43m.\u001b[49m\u001b[43mvalidate_python\u001b[49m\u001b[43m(\u001b[49m\u001b[43mdata\u001b[49m\u001b[43m,\u001b[49m\u001b[43m \u001b[49m\u001b[43mself_instance\u001b[49m\u001b[43m=\u001b[49m\u001b[38;5;28;43mself\u001b[39;49m\u001b[43m)\u001b[49m\n\u001b[32m    254\u001b[39m \u001b[38;5;28;01mif\u001b[39;00m \u001b[38;5;28mself\u001b[39m \u001b[38;5;129;01mis\u001b[39;00m \u001b[38;5;129;01mnot\u001b[39;00m validated_self:\n\u001b[32m    255\u001b[39m     warnings.warn(\n\u001b[32m    256\u001b[39m         \u001b[33m'\u001b[39m\u001b[33mA custom validator is returning a value other than `self`.\u001b[39m\u001b[38;5;130;01m\\n\u001b[39;00m\u001b[33m'\u001b[39m\n\u001b[32m    257\u001b[39m         \u001b[33m\"\u001b[39m\u001b[33mReturning anything other than `self` from a top level model validator isn\u001b[39m\u001b[33m'\u001b[39m\u001b[33mt supported when validating via `__init__`.\u001b[39m\u001b[38;5;130;01m\\n\u001b[39;00m\u001b[33m\"\u001b[39m\n\u001b[32m    258\u001b[39m         \u001b[33m'\u001b[39m\u001b[33mSee the `model_validator` docs (https://docs.pydantic.dev/latest/concepts/validators/#model-validators) for more details.\u001b[39m\u001b[33m'\u001b[39m,\n\u001b[32m    259\u001b[39m         stacklevel=\u001b[32m2\u001b[39m,\n\u001b[32m    260\u001b[39m     )\n",
      "\u001b[31mValidationError\u001b[39m: 1 validation error for OpenAIEmbeddings\n  Value error, Did not find openai_api_key, please add an environment variable `OPENAI_API_KEY` which contains it, or pass `openai_api_key` as a named parameter. [type=value_error, input_value={'model_kwargs': {}, 'cli...20, 'http_client': None}, input_type=dict]\n    For further information visit https://errors.pydantic.dev/2.11/v/value_error"
     ]
    }
   ],
   "source": [
    "# ====================================\n",
    "# 🧬 STEP 3: Embed Full Docs & Store in FAISS\n",
    "# ====================================\n",
    "embeddings = OpenAIEmbeddings()\n",
    "vectorstore = FAISS.from_documents(all_docs, embeddings)\n",
    "vectorstore.save_local(\"faiss_resume_full_db\")\n",
    "\n",
    "print(\"✅ FAISS vector database saved at 'faiss_resume_full_db'\")\n"
   ]
  },
  {
   "cell_type": "code",
   "execution_count": null,
   "id": "19ce0ae2",
   "metadata": {},
   "outputs": [],
   "source": []
  }
 ],
 "metadata": {
  "kernelspec": {
   "display_name": "futureStack (3.13.1)",
   "language": "python",
   "name": "python3"
  },
  "language_info": {
   "codemirror_mode": {
    "name": "ipython",
    "version": 3
   },
   "file_extension": ".py",
   "mimetype": "text/x-python",
   "name": "python",
   "nbconvert_exporter": "python",
   "pygments_lexer": "ipython3",
   "version": "3.13.1"
  }
 },
 "nbformat": 4,
 "nbformat_minor": 5
}
